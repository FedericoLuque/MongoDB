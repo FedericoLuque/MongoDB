{
 "cells": [
  {
   "cell_type": "code",
   "execution_count": 30,
   "metadata": {},
   "outputs": [
    {
     "name": "stdout",
     "output_type": "stream",
     "text": [
      "Requirement already satisfied: boto3 in c:\\users\\usuario\\desktop\\dynamodb\\mongodb\\venv\\lib\\site-packages (1.36.8)\n",
      "Requirement already satisfied: botocore<1.37.0,>=1.36.8 in c:\\users\\usuario\\desktop\\dynamodb\\mongodb\\venv\\lib\\site-packages (from boto3) (1.36.8)\n",
      "Requirement already satisfied: jmespath<2.0.0,>=0.7.1 in c:\\users\\usuario\\desktop\\dynamodb\\mongodb\\venv\\lib\\site-packages (from boto3) (1.0.1)\n",
      "Requirement already satisfied: s3transfer<0.12.0,>=0.11.0 in c:\\users\\usuario\\desktop\\dynamodb\\mongodb\\venv\\lib\\site-packages (from boto3) (0.11.2)\n",
      "Requirement already satisfied: python-dateutil<3.0.0,>=2.1 in c:\\users\\usuario\\desktop\\dynamodb\\mongodb\\venv\\lib\\site-packages (from botocore<1.37.0,>=1.36.8->boto3) (2.9.0.post0)\n",
      "Requirement already satisfied: urllib3!=2.2.0,<3,>=1.25.4 in c:\\users\\usuario\\desktop\\dynamodb\\mongodb\\venv\\lib\\site-packages (from botocore<1.37.0,>=1.36.8->boto3) (2.3.0)\n",
      "Requirement already satisfied: six>=1.5 in c:\\users\\usuario\\desktop\\dynamodb\\mongodb\\venv\\lib\\site-packages (from python-dateutil<3.0.0,>=2.1->botocore<1.37.0,>=1.36.8->boto3) (1.17.0)\n",
      "Note: you may need to restart the kernel to use updated packages.\n"
     ]
    }
   ],
   "source": [
    "%pip install boto3"
   ]
  },
  {
   "cell_type": "code",
   "execution_count": 31,
   "metadata": {},
   "outputs": [],
   "source": [
    "import boto3\n",
    "from dotenv import load_dotenv\n",
    "import os\n",
    "\n",
    "load_dotenv(override=True) # El override es porque las variables de entorno cambian con cada laboratorio\n",
    "\n",
    "dynamodb = boto3.resource(\n",
    "   'dynamodb',\n",
    "   aws_access_key_id=os.getenv(\"ACCESS_KEY\"),\n",
    "   aws_secret_access_key=os.getenv(\"SECRET_KEY\"),\n",
    "   aws_session_token=os.getenv(\"SESSION_TOKEN\"),\n",
    "   region_name=os.getenv(\"REGION\")\n",
    ")"
   ]
  },
  {
   "cell_type": "markdown",
   "metadata": {},
   "source": [
    "1 - Crear al menos 3 tablas con dos atributos cada una (1 punto)"
   ]
  },
  {
   "cell_type": "code",
   "execution_count": 32,
   "metadata": {},
   "outputs": [
    {
     "name": "stdout",
     "output_type": "stream",
     "text": [
      "Error al crear la tabla: An error occurred (ResourceInUseException) when calling the CreateTable operation: Table already exists: Usuarios\n"
     ]
    }
   ],
   "source": [
    "try:\n",
    "    table = dynamodb.create_table(\n",
    "        TableName='Usuarios',  # Nombre de la tabla\n",
    "        KeySchema=[\n",
    "            {\n",
    "                'AttributeName': 'idUsuario',  # Nombre de la clave primaria\n",
    "                'KeyType': 'HASH'  # Tipo de clave (HASH = clave primaria)\n",
    "            }\n",
    "        ],\n",
    "        AttributeDefinitions=[\n",
    "            {\n",
    "                'AttributeName': 'idUsuario',  # Definición de la clave primaria\n",
    "                'AttributeType': 'S'  # Tipo de dato (S = String)\n",
    "            }\n",
    "        ],\n",
    "        ProvisionedThroughput={\n",
    "            'ReadCapacityUnits': 5,  # Unidades de capacidad de lectura\n",
    "            'WriteCapacityUnits': 5  # Unidades de capacidad de escritura\n",
    "        }\n",
    "    )\n",
    "\n",
    "    print(table.table_status)\n",
    "    print(\"Tabla creada exitosamente!\")\n",
    "\n",
    "\n",
    "except Exception as e:\n",
    "    print(f\"Error al crear la tabla: {e}\")"
   ]
  },
  {
   "cell_type": "code",
   "execution_count": 33,
   "metadata": {},
   "outputs": [
    {
     "name": "stdout",
     "output_type": "stream",
     "text": [
      "Error al crear la tabla: An error occurred (ResourceInUseException) when calling the CreateTable operation: Table already exists: Productos\n"
     ]
    }
   ],
   "source": [
    "try:\n",
    "    table = dynamodb.create_table(\n",
    "        TableName='Productos',  # Nombre de la tabla\n",
    "        KeySchema=[\n",
    "            {\n",
    "                'AttributeName': 'idProducto',  # Nombre de la clave primaria\n",
    "                'KeyType': 'HASH'  # Tipo de clave (HASH = clave primaria)\n",
    "            }\n",
    "        ],\n",
    "        AttributeDefinitions=[\n",
    "            {\n",
    "                'AttributeName': 'idProducto',  # Definición de la clave primaria\n",
    "                'AttributeType': 'S'  # Tipo de dato (S = String)\n",
    "            }\n",
    "        ],\n",
    "        ProvisionedThroughput={\n",
    "            'ReadCapacityUnits': 5,  # Unidades de capacidad de lectura\n",
    "            'WriteCapacityUnits': 5  # Unidades de capacidad de escritura\n",
    "        }\n",
    "    )\n",
    "    \n",
    "    print(table.table_status)\n",
    "    print(\"Tabla creada exitosamente!\")\n",
    "\n",
    "\n",
    "except Exception as e:\n",
    "    print(f\"Error al crear la tabla: {e}\")"
   ]
  },
  {
   "cell_type": "code",
   "execution_count": 34,
   "metadata": {},
   "outputs": [
    {
     "name": "stdout",
     "output_type": "stream",
     "text": [
      "Error al crear la tabla: An error occurred (ResourceInUseException) when calling the CreateTable operation: Table already exists: Ordenes\n"
     ]
    }
   ],
   "source": [
    "try:\n",
    "    table = dynamodb.create_table(\n",
    "        TableName='Ordenes',  # Nombre de la tabla\n",
    "        KeySchema=[\n",
    "            {\n",
    "                'AttributeName': 'idOrden',  # Nombre de la clave primaria\n",
    "                'KeyType': 'HASH'  # Tipo de clave (HASH = clave primaria)\n",
    "            }\n",
    "        ],\n",
    "        AttributeDefinitions=[\n",
    "            {\n",
    "                'AttributeName': 'idOrden',  # Definición de la clave primaria\n",
    "                'AttributeType': 'S'  # Tipo de dato (S = String)\n",
    "            }\n",
    "        ],\n",
    "        ProvisionedThroughput={\n",
    "            'ReadCapacityUnits': 5,  # Unidades de capacidad de lectura\n",
    "            'WriteCapacityUnits': 5  # Unidades de capacidad de escritura\n",
    "        }\n",
    "    )\n",
    "    \n",
    "    print(table.table_status)\n",
    "    print(\"Tabla creada exitosamente!\")\n",
    "\n",
    "\n",
    "except Exception as e:\n",
    "    print(f\"Error al crear la tabla: {e}\")"
   ]
  },
  {
   "cell_type": "markdown",
   "metadata": {},
   "source": [
    "2 - Crear tres registros encada tabla (0.5 puntos)"
   ]
  },
  {
   "cell_type": "code",
   "execution_count": 35,
   "metadata": {},
   "outputs": [
    {
     "name": "stdout",
     "output_type": "stream",
     "text": [
      "Registro con idUsuario '1' insertado exitosamente.\n",
      "Registro con idUsuario '2' insertado exitosamente.\n",
      "Registro con idUsuario '3' insertado exitosamente.\n"
     ]
    }
   ],
   "source": [
    "# Obtén la tabla\n",
    "table = dynamodb.Table('Usuarios')\n",
    "\n",
    "# Datos del registro\n",
    "david = {\n",
    "    'idUsuario': '1',  # Clave primaria (debe ser única)\n",
    "    'nombre': 'David',  # Atributo adicional\n",
    "    'edad': 28          # Atributo adicional\n",
    "}\n",
    "\n",
    "# Insertar el registro\n",
    "try:\n",
    "    table.put_item(Item=david)\n",
    "    print(f\"Registro con idUsuario '{david['idUsuario']}' insertado exitosamente.\")\n",
    "except Exception as e:\n",
    "    print(f\"Error al insertar el registro: {e}\")\n",
    "\n",
    "# Datos del registro\n",
    "federico = {\n",
    "    'idUsuario': '2',  # Clave primaria (debe ser única)\n",
    "    'nombre': 'Federico',  # Atributo adicional\n",
    "    'edad': 38          # Atributo adicional\n",
    "}\n",
    "\n",
    "# Insertar el registro\n",
    "try:\n",
    "    table.put_item(Item=federico)\n",
    "    print(f\"Registro con idUsuario '{federico['idUsuario']}' insertado exitosamente.\")\n",
    "except Exception as e:\n",
    "    print(f\"Error al insertar el registro: {e}\")\n",
    "\n",
    "# Datos del registro\n",
    "carlos = {\n",
    "    'idUsuario': '3',  # Clave primaria (debe ser única)\n",
    "    'nombre': 'Carlos',  # Atributo adicional\n",
    "    'edad': 25          # Atributo adicional\n",
    "}\n",
    "\n",
    "# Insertar el registro\n",
    "try:\n",
    "    table.put_item(Item=carlos)\n",
    "    print(f\"Registro con idUsuario '{carlos['idUsuario']}' insertado exitosamente.\")\n",
    "except Exception as e:\n",
    "    print(f\"Error al insertar el registro: {e}\")\n",
    "\n"
   ]
  },
  {
   "cell_type": "code",
   "execution_count": 36,
   "metadata": {},
   "outputs": [
    {
     "name": "stdout",
     "output_type": "stream",
     "text": [
      "Registro con idProducto '1' insertado exitosamente.\n",
      "Registro con idProducto '2' insertado exitosamente.\n",
      "Registro con idProducto '3' insertado exitosamente.\n"
     ]
    }
   ],
   "source": [
    "# Obtén la tabla\n",
    "table = dynamodb.Table('Productos')\n",
    "\n",
    "# Datos del registro\n",
    "plancha = {\n",
    "    'idProducto': '1',  # Clave primaria (debe ser única)\n",
    "    'producto': 'plancha',  # Atributo adicional\n",
    "    'precio': 30          # Atributo adicional\n",
    "}\n",
    "\n",
    "# Insertar el registro\n",
    "try:\n",
    "    table.put_item(Item=plancha)\n",
    "    print(f\"Registro con idProducto '{plancha['idProducto']}' insertado exitosamente.\")\n",
    "except Exception as e:\n",
    "    print(f\"Error al insertar el registro: {e}\")\n",
    "\n",
    "# Datos del registro\n",
    "lavadora = {\n",
    "    'idProducto': '2',  # Clave primaria (debe ser única)\n",
    "    'producto': 'Lavadora',  # Atributo adicional\n",
    "    'precio': 300          # Atributo adicional\n",
    "}\n",
    "\n",
    "# Insertar el registro\n",
    "try:\n",
    "    table.put_item(Item=lavadora)\n",
    "    print(f\"Registro con idProducto '{lavadora['idProducto']}' insertado exitosamente.\")\n",
    "except Exception as e:\n",
    "    print(f\"Error al insertar el registro: {e}\")\n",
    "\n",
    "# Datos del registro\n",
    "olla = {\n",
    "    'idProducto': '3',  # Clave primaria (debe ser única)\n",
    "    'producto': 'Olla',  # Atributo adicional\n",
    "    'precio': 50          # Atributo adicional\n",
    "}\n",
    "\n",
    "# Insertar el registro\n",
    "try:\n",
    "    table.put_item(Item=olla)\n",
    "    print(f\"Registro con idProducto '{olla['idProducto']}' insertado exitosamente.\")\n",
    "except Exception as e:\n",
    "    print(f\"Error al insertar el registro: {e}\")"
   ]
  },
  {
   "cell_type": "code",
   "execution_count": 37,
   "metadata": {},
   "outputs": [
    {
     "name": "stdout",
     "output_type": "stream",
     "text": [
      "Registro con idOrden '1' insertado exitosamente.\n",
      "Registro con idOrden '2' insertado exitosamente.\n",
      "Registro con idOrden '3' insertado exitosamente.\n"
     ]
    }
   ],
   "source": [
    "# Obtén la tabla\n",
    "table = dynamodb.Table('Ordenes')\n",
    "\n",
    "# Datos del registro\n",
    "orden1 = {\n",
    "    'idOrden': '1',  # Clave primaria (debe ser única)\n",
    "    'cliente': 'David',  # Atributo adicional\n",
    "    'factura': 500          # Atributo adicional\n",
    "}\n",
    "\n",
    "# Insertar el registro\n",
    "try:\n",
    "    table.put_item(Item=orden1)\n",
    "    print(f\"Registro con idOrden '{orden1['idOrden']}' insertado exitosamente.\")\n",
    "except Exception as e:\n",
    "    print(f\"Error al insertar el registro: {e}\")\n",
    "\n",
    "# Datos del registro\n",
    "orden2 = {\n",
    "    'idOrden': '2',  # Clave primaria (debe ser única)\n",
    "    'cliente': 'Federico',  # Atributo adicional\n",
    "    'factura': 700          # Atributo adicional\n",
    "}\n",
    "\n",
    "# Insertar el registro\n",
    "try:\n",
    "    table.put_item(Item=orden2)\n",
    "    print(f\"Registro con idOrden '{orden2['idOrden']}' insertado exitosamente.\")\n",
    "except Exception as e:\n",
    "    print(f\"Error al insertar el registro: {e}\")\n",
    "\n",
    "# Datos del registro\n",
    "orden3 = {\n",
    "    'idOrden': '3',  # Clave primaria (debe ser única)\n",
    "    'cliente': 'Carlos',  # Atributo adicional\n",
    "    'factura': 900          # Atributo adicional\n",
    "}\n",
    "\n",
    "# Insertar el registro\n",
    "try:\n",
    "    table.put_item(Item=orden3)\n",
    "    print(f\"Registro con idOrden '{orden3['idOrden']}' insertado exitosamente.\")\n",
    "except Exception as e:\n",
    "    print(f\"Error al insertar el registro: {e}\")"
   ]
  },
  {
   "cell_type": "markdown",
   "metadata": {},
   "source": [
    "3 - Obtener un registro de cada tabla (1 punto)"
   ]
  },
  {
   "cell_type": "code",
   "execution_count": 38,
   "metadata": {},
   "outputs": [
    {
     "name": "stdout",
     "output_type": "stream",
     "text": [
      "Registro encontrado: {'idUsuario': '1', 'nombre': 'David', 'edad': Decimal('28')}\n"
     ]
    }
   ],
   "source": [
    "# Obtener registro de la tabla Usuarios\n",
    "table = dynamodb.Table('Usuarios')\n",
    "\n",
    "# Clave primaria del registro que quieres obtener\n",
    "clave_primaria = {\n",
    "    'idUsuario': '1'\n",
    "}\n",
    "\n",
    "# Obtener el ítem\n",
    "response = table.get_item(Key=clave_primaria)\n",
    "\n",
    "if 'Item' in response:\n",
    "    print(\"Registro encontrado:\", response['Item'])\n",
    "else:\n",
    "    print(\"El registro no existe.\")"
   ]
  },
  {
   "cell_type": "code",
   "execution_count": 39,
   "metadata": {},
   "outputs": [
    {
     "name": "stdout",
     "output_type": "stream",
     "text": [
      "Registro encontrado: {'idProducto': '2', 'precio': Decimal('300'), 'producto': 'Lavadora'}\n"
     ]
    }
   ],
   "source": [
    "# Obtener registro de la tabla Productos\n",
    "table = dynamodb.Table('Productos')\n",
    "\n",
    "# Clave primaria del registro que quieres obtener\n",
    "clave_primaria = {\n",
    "    'idProducto': '2'\n",
    "}\n",
    "\n",
    "# Obtener el ítem\n",
    "response = table.get_item(Key=clave_primaria)\n",
    "\n",
    "if 'Item' in response:\n",
    "    print(\"Registro encontrado:\", response['Item'])\n",
    "else:\n",
    "    print(\"El registro no existe.\")"
   ]
  },
  {
   "cell_type": "code",
   "execution_count": 40,
   "metadata": {},
   "outputs": [
    {
     "name": "stdout",
     "output_type": "stream",
     "text": [
      "Registro encontrado: {'idOrden': '3', 'cliente': 'Carlos', 'factura': Decimal('900')}\n"
     ]
    }
   ],
   "source": [
    "# Obtener registro de la tabla Ordenes\n",
    "table = dynamodb.Table('Ordenes')\n",
    "\n",
    "# Clave primaria del registro que quieres obtener\n",
    "clave_primaria = {\n",
    "    'idOrden': '3'\n",
    "}\n",
    "\n",
    "# Obtener el ítem\n",
    "response = table.get_item(Key=clave_primaria)\n",
    "\n",
    "if 'Item' in response:\n",
    "    print(\"Registro encontrado:\", response['Item'])\n",
    "else:\n",
    "    print(\"El registro no existe.\")"
   ]
  },
  {
   "cell_type": "markdown",
   "metadata": {},
   "source": [
    "4 - Actualizar un registro de cada tabla (1 punto)"
   ]
  },
  {
   "cell_type": "code",
   "execution_count": 41,
   "metadata": {},
   "outputs": [
    {
     "name": "stdout",
     "output_type": "stream",
     "text": [
      "Registro actualizado: {'idUsuario': '1', 'nombre': 'Alberto', 'edad': Decimal('30')}\n"
     ]
    }
   ],
   "source": [
    "# Especificar la tabla\n",
    "table = dynamodb.Table('Usuarios')\n",
    "\n",
    "# Clave primaria del registro que quieres actualizar\n",
    "clave_primaria = {\n",
    "    'idUsuario': '1'\n",
    "}\n",
    "\n",
    "# Actualizar el registro\n",
    "response = table.update_item(\n",
    "    Key=clave_primaria,\n",
    "    UpdateExpression=\"SET nombre = :nombre, edad = :edad\", # Define los atributos a modificar.\n",
    "    ExpressionAttributeValues={   \n",
    "        ':nombre': 'Alberto',       # Mapea los valores nuevos\n",
    "        ':edad': 30\n",
    "    },\n",
    "    ReturnValues=\"ALL_NEW\"  # Devuelve todos los atributos del registro modificado.\n",
    ")\n",
    "\n",
    "# Mostrar los valores actualizados\n",
    "print(\"Registro actualizado:\", response['Attributes'])"
   ]
  },
  {
   "cell_type": "code",
   "execution_count": 42,
   "metadata": {},
   "outputs": [
    {
     "name": "stdout",
     "output_type": "stream",
     "text": [
      "Registro actualizado: {'idProducto': '2', 'precio': Decimal('120'), 'producto': 'aspiradora'}\n"
     ]
    }
   ],
   "source": [
    "# Especificar la tabla\n",
    "table = dynamodb.Table('Productos')\n",
    "\n",
    "# Clave primaria del registro que quieres actualizar\n",
    "clave_primaria = {\n",
    "    'idProducto': '2'\n",
    "}\n",
    "\n",
    "# Actualizar el registro\n",
    "response = table.update_item(\n",
    "    Key=clave_primaria,\n",
    "    UpdateExpression=\"SET producto = :producto, precio = :precio\", # Define los atributos a modificar.\n",
    "    ExpressionAttributeValues={   \n",
    "        ':producto': 'aspiradora',       # Mapea los valores nuevos\n",
    "        ':precio': 120\n",
    "    },\n",
    "    ReturnValues=\"ALL_NEW\"  # Devuelve todos los atributos del registro modificado.\n",
    ")\n",
    "\n",
    "# Mostrar los valores actualizados\n",
    "print(\"Registro actualizado:\", response['Attributes'])"
   ]
  },
  {
   "cell_type": "code",
   "execution_count": 44,
   "metadata": {},
   "outputs": [
    {
     "name": "stdout",
     "output_type": "stream",
     "text": [
      "Registro actualizado: {'idOrden': '3', 'cliente': 'Manuel', 'factura': Decimal('300')}\n"
     ]
    }
   ],
   "source": [
    "# Especificar la tabla\n",
    "table = dynamodb.Table('Ordenes')\n",
    "\n",
    "# Clave primaria del registro que quieres actualizar\n",
    "clave_primaria = {\n",
    "    'idOrden': '3'\n",
    "}\n",
    "\n",
    "# Actualizar el registro\n",
    "response = table.update_item(\n",
    "    Key=clave_primaria,\n",
    "    UpdateExpression=\"SET cliente = :cliente, factura = :factura\", # Define los atributos a modificar.\n",
    "    ExpressionAttributeValues={   \n",
    "        ':cliente': 'Manuel',       # Mapea los valores nuevos\n",
    "        ':factura': 300\n",
    "    },\n",
    "    ReturnValues=\"ALL_NEW\"  # Devuelve todos los atributos del registro modificado.\n",
    ")\n",
    "\n",
    "# Mostrar los valores actualizados\n",
    "print(\"Registro actualizado:\", response['Attributes'])"
   ]
  },
  {
   "cell_type": "markdown",
   "metadata": {},
   "source": [
    "5 - Eliminar un registro de cada tabla (1 punto)"
   ]
  },
  {
   "cell_type": "code",
   "execution_count": 45,
   "metadata": {},
   "outputs": [
    {
     "name": "stdout",
     "output_type": "stream",
     "text": [
      "Registro eliminado: {'ResponseMetadata': {'RequestId': 'SQ16DCALUKCBS723VD5CH3T42FVV4KQNSO5AEMVJF66Q9ASUAAJG', 'HTTPStatusCode': 200, 'HTTPHeaders': {'server': 'Server', 'date': 'Wed, 29 Jan 2025 21:09:14 GMT', 'content-type': 'application/x-amz-json-1.0', 'content-length': '2', 'connection': 'keep-alive', 'x-amzn-requestid': 'SQ16DCALUKCBS723VD5CH3T42FVV4KQNSO5AEMVJF66Q9ASUAAJG', 'x-amz-crc32': '2745614147'}, 'RetryAttempts': 0}}\n"
     ]
    }
   ],
   "source": [
    "# Especificar la tabla\n",
    "table = dynamodb.Table('Usuarios')\n",
    "\n",
    "# Clave primaria del registro que quieres eliminar\n",
    "clave_primaria = {\n",
    "    'idUsuario': '3'\n",
    "}\n",
    "\n",
    "# Eliminar el registro\n",
    "response = table.delete_item(\n",
    "    Key=clave_primaria\n",
    ")"
   ]
  },
  {
   "cell_type": "code",
   "execution_count": 46,
   "metadata": {},
   "outputs": [],
   "source": [
    "# Especificar la tabla\n",
    "table = dynamodb.Table('Productos')\n",
    "\n",
    "# Clave primaria del registro que quieres eliminar\n",
    "clave_primaria = {\n",
    "    'idProducto': '1'\n",
    "}\n",
    "\n",
    "# Eliminar el registro\n",
    "response = table.delete_item(\n",
    "    Key=clave_primaria\n",
    ")"
   ]
  },
  {
   "cell_type": "code",
   "execution_count": 47,
   "metadata": {},
   "outputs": [],
   "source": [
    "# Especificar la tabla\n",
    "table = dynamodb.Table('Ordenes')\n",
    "\n",
    "# Clave primaria del registro que quieres eliminar\n",
    "clave_primaria = {\n",
    "    'idOrden': '2'\n",
    "}\n",
    "\n",
    "# Eliminar el registro\n",
    "response = table.delete_item(\n",
    "    Key=clave_primaria\n",
    ")"
   ]
  },
  {
   "cell_type": "markdown",
   "metadata": {},
   "source": [
    "6 - Obtener todos los registros de cada tabla (1 punto)"
   ]
  },
  {
   "cell_type": "code",
   "execution_count": 48,
   "metadata": {},
   "outputs": [
    {
     "name": "stdout",
     "output_type": "stream",
     "text": [
      "Registros en la tabla: [{'nombre': 'Federico', 'idUsuario': '2', 'edad': Decimal('38')}, {'idUsuario': '1', 'nombre': 'Alberto', 'edad': Decimal('30')}]\n"
     ]
    }
   ],
   "source": [
    "# Especificar la tabla\n",
    "table = dynamodb.Table('Usuarios')\n",
    "\n",
    "# Obtener todos los registros de la tabla\n",
    "response = table.scan()  # Obtiene todos los elementos de la tabla y los almacena en el campo Items de la respuesta.\n",
    "\n",
    "# Mostrar los registros\n",
    "print(\"Registros en la tabla:\", response['Items'])"
   ]
  },
  {
   "cell_type": "code",
   "execution_count": 49,
   "metadata": {},
   "outputs": [
    {
     "name": "stdout",
     "output_type": "stream",
     "text": [
      "Registros en la tabla: [{'idProducto': '2', 'precio': Decimal('120'), 'producto': 'aspiradora'}, {'precio': Decimal('50'), 'idProducto': '3', 'producto': 'Olla'}]\n"
     ]
    }
   ],
   "source": [
    "# Especificar la tabla\n",
    "table = dynamodb.Table('Productos')\n",
    "\n",
    "# Obtener todos los registros de la tabla\n",
    "response = table.scan()  # Obtiene todos los elementos de la tabla y los almacena en el campo Items de la respuesta.\n",
    "\n",
    "# Mostrar los registros\n",
    "print(\"Registros en la tabla:\", response['Items'])"
   ]
  },
  {
   "cell_type": "code",
   "execution_count": 50,
   "metadata": {},
   "outputs": [
    {
     "name": "stdout",
     "output_type": "stream",
     "text": [
      "Registros en la tabla: [{'idOrden': '1', 'cliente': 'David', 'factura': Decimal('500')}, {'idOrden': '3', 'cliente': 'Manuel', 'factura': Decimal('300')}]\n"
     ]
    }
   ],
   "source": [
    "# Especificar la tabla\n",
    "table = dynamodb.Table('Ordenes')\n",
    "\n",
    "# Obtener todos los registros de la tabla\n",
    "response = table.scan()  # Obtiene todos los elementos de la tabla y los almacena en el campo Items de la respuesta.\n",
    "\n",
    "# Mostrar los registros\n",
    "print(\"Registros en la tabla:\", response['Items'])"
   ]
  },
  {
   "cell_type": "markdown",
   "metadata": {},
   "source": [
    "7 - Obtener un conjunto de registros de un filtrado de cada tabla (1 punto)"
   ]
  }
 ],
 "metadata": {
  "kernelspec": {
   "display_name": "venv",
   "language": "python",
   "name": "python3"
  },
  "language_info": {
   "codemirror_mode": {
    "name": "ipython",
    "version": 3
   },
   "file_extension": ".py",
   "mimetype": "text/x-python",
   "name": "python",
   "nbconvert_exporter": "python",
   "pygments_lexer": "ipython3",
   "version": "3.12.6"
  }
 },
 "nbformat": 4,
 "nbformat_minor": 2
}
