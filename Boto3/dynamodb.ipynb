{
 "cells": [
  {
   "cell_type": "code",
   "execution_count": 70,
   "metadata": {},
   "outputs": [
    {
     "name": "stdout",
     "output_type": "stream",
     "text": [
      "Requirement already satisfied: boto3 in c:\\users\\usuario\\desktop\\dynamodb\\mongodb\\venv\\lib\\site-packages (1.36.8)\n",
      "Requirement already satisfied: botocore<1.37.0,>=1.36.8 in c:\\users\\usuario\\desktop\\dynamodb\\mongodb\\venv\\lib\\site-packages (from boto3) (1.36.8)\n",
      "Requirement already satisfied: jmespath<2.0.0,>=0.7.1 in c:\\users\\usuario\\desktop\\dynamodb\\mongodb\\venv\\lib\\site-packages (from boto3) (1.0.1)\n",
      "Requirement already satisfied: s3transfer<0.12.0,>=0.11.0 in c:\\users\\usuario\\desktop\\dynamodb\\mongodb\\venv\\lib\\site-packages (from boto3) (0.11.2)\n",
      "Requirement already satisfied: python-dateutil<3.0.0,>=2.1 in c:\\users\\usuario\\desktop\\dynamodb\\mongodb\\venv\\lib\\site-packages (from botocore<1.37.0,>=1.36.8->boto3) (2.9.0.post0)\n",
      "Requirement already satisfied: urllib3!=2.2.0,<3,>=1.25.4 in c:\\users\\usuario\\desktop\\dynamodb\\mongodb\\venv\\lib\\site-packages (from botocore<1.37.0,>=1.36.8->boto3) (2.3.0)\n",
      "Requirement already satisfied: six>=1.5 in c:\\users\\usuario\\desktop\\dynamodb\\mongodb\\venv\\lib\\site-packages (from python-dateutil<3.0.0,>=2.1->botocore<1.37.0,>=1.36.8->boto3) (1.17.0)\n",
      "Note: you may need to restart the kernel to use updated packages.\n"
     ]
    }
   ],
   "source": [
    "%pip install boto3"
   ]
  },
  {
   "cell_type": "code",
   "execution_count": 123,
   "metadata": {},
   "outputs": [],
   "source": [
    "import boto3\n",
    "from dotenv import load_dotenv\n",
    "import os\n",
    "\n",
    "load_dotenv(override=True) # El override es porque las variables de entorno cambian con cada laboratorio\n",
    "\n",
    "dynamodb = boto3.resource(\n",
    "   'dynamodb',\n",
    "   aws_access_key_id=os.getenv(\"ACCESS_KEY\"),\n",
    "   aws_secret_access_key=os.getenv(\"SECRET_KEY\"),\n",
    "   aws_session_token=os.getenv(\"SESSION_TOKEN\"),\n",
    "   region_name=os.getenv(\"REGION\")\n",
    ")"
   ]
  },
  {
   "cell_type": "markdown",
   "metadata": {},
   "source": [
    "1 - Crear al menos 3 tablas con dos atributos cada una (1 punto)"
   ]
  },
  {
   "cell_type": "code",
   "execution_count": 72,
   "metadata": {},
   "outputs": [
    {
     "name": "stdout",
     "output_type": "stream",
     "text": [
      "CREATING\n",
      "Tabla creada exitosamente!\n"
     ]
    }
   ],
   "source": [
    "try:\n",
    "    table = dynamodb.create_table(\n",
    "        TableName='Usuarios',  # Nombre de la tabla\n",
    "        KeySchema=[\n",
    "                {'AttributeName': 'idUsuario', 'KeyType': 'HASH'},   # Clave de Partición\n",
    "                {'AttributeName': 'localidad', 'KeyType': 'RANGE'} \n",
    "        ],\n",
    "        AttributeDefinitions=[\n",
    "                {'AttributeName': 'idUsuario', 'AttributeType': 'S'},   # 'S' -> String\n",
    "                {'AttributeName': 'localidad', 'AttributeType': 'S'}    # 'S' -> String\n",
    "        ],\n",
    "        ProvisionedThroughput={\n",
    "            'ReadCapacityUnits': 5,  # Unidades de capacidad de lectura\n",
    "            'WriteCapacityUnits': 5  # Unidades de capacidad de escritura\n",
    "        }\n",
    "    )\n",
    "\n",
    "    print(table.table_status)\n",
    "    print(\"Tabla creada exitosamente!\")\n",
    "\n",
    "\n",
    "except Exception as e:\n",
    "    print(f\"Error al crear la tabla: {e}\")"
   ]
  },
  {
   "cell_type": "code",
   "execution_count": 73,
   "metadata": {},
   "outputs": [
    {
     "name": "stdout",
     "output_type": "stream",
     "text": [
      "CREATING\n",
      "Tabla creada exitosamente!\n"
     ]
    }
   ],
   "source": [
    "try:\n",
    "    table = dynamodb.create_table(\n",
    "        TableName='Productos',  # Nombre de la tabla\n",
    "            KeySchema=[\n",
    "                {'AttributeName': 'idProducto', 'KeyType': 'HASH'},   # Clave de Partición\n",
    "                {'AttributeName': 'referencia', 'KeyType': 'RANGE'}   # Clave de Ordenación\n",
    "            ],\n",
    "            AttributeDefinitions=[\n",
    "                {'AttributeName': 'idProducto', 'AttributeType': 'S'},   # 'S' -> String\n",
    "                {'AttributeName': 'referencia', 'AttributeType': 'N'}    # 'N' -> Number\n",
    "            ],\n",
    "                ProvisionedThroughput={\n",
    "                    'ReadCapacityUnits': 5,  # Unidades de capacidad de lectura\n",
    "                    'WriteCapacityUnits': 5  # Unidades de capacidad de escritura\n",
    "                }\n",
    "            )\n",
    "    \n",
    "    print(table.table_status)\n",
    "    print(\"Tabla creada exitosamente!\")\n",
    "\n",
    "\n",
    "except Exception as e:\n",
    "    print(f\"Error al crear la tabla: {e}\")"
   ]
  },
  {
   "cell_type": "code",
   "execution_count": 74,
   "metadata": {},
   "outputs": [
    {
     "name": "stdout",
     "output_type": "stream",
     "text": [
      "CREATING\n",
      "Tabla creada exitosamente!\n"
     ]
    }
   ],
   "source": [
    "try:\n",
    "    table = dynamodb.create_table(\n",
    "        TableName='Ordenes',  # Nombre de la tabla\n",
    "            KeySchema=[\n",
    "                {'AttributeName': 'idOrden', 'KeyType': 'HASH'},   # Clave de Partición\n",
    "                {'AttributeName': 'cliente', 'KeyType': 'RANGE'}   # Clave de Ordenación\n",
    "            ],\n",
    "            AttributeDefinitions=[\n",
    "                {'AttributeName': 'idOrden', 'AttributeType': 'S'},   # 'S' -> String\n",
    "                {'AttributeName': 'cliente', 'AttributeType': 'S'}    # 'S' -> String\n",
    "            ],\n",
    "                ProvisionedThroughput={\n",
    "                    'ReadCapacityUnits': 5,  # Unidades de capacidad de lectura\n",
    "                    'WriteCapacityUnits': 5  # Unidades de capacidad de escritura\n",
    "                }\n",
    "            )\n",
    "    \n",
    "    print(table.table_status)\n",
    "    print(\"Tabla creada exitosamente!\")\n",
    "\n",
    "\n",
    "except Exception as e:\n",
    "    print(f\"Error al crear la tabla: {e}\")"
   ]
  },
  {
   "cell_type": "markdown",
   "metadata": {},
   "source": [
    "2 - Crear tres registros encada tabla (0.5 puntos)"
   ]
  },
  {
   "cell_type": "code",
   "execution_count": 79,
   "metadata": {},
   "outputs": [
    {
     "name": "stdout",
     "output_type": "stream",
     "text": [
      "Registro con idUsuario '1' insertado exitosamente.\n",
      "Registro con idUsuario '2' insertado exitosamente.\n",
      "Registro con idUsuario '3' insertado exitosamente.\n",
      "Registro con idUsuario '4' insertado exitosamente.\n",
      "Registro con idUsuario '5' insertado exitosamente.\n",
      "Registro con idUsuario '6' insertado exitosamente.\n",
      "Registro con idUsuario '7' insertado exitosamente.\n",
      "Registro con idUsuario '8' insertado exitosamente.\n",
      "Registro con idUsuario '9' insertado exitosamente.\n",
      "Registro con idUsuario '10' insertado exitosamente.\n"
     ]
    }
   ],
   "source": [
    "# Obtén la tabla\n",
    "table = dynamodb.Table('Usuarios')\n",
    "\n",
    "# Datos del registro\n",
    "david = {\n",
    "    'idUsuario': '1',  # Clave primaria (debe ser única)\n",
    "    'nombre': 'David',  # Atributo adicional\n",
    "    'edad': 28,\n",
    "    'localidad': 'Madrid'\n",
    "}\n",
    "\n",
    "# Insertar el registro\n",
    "try:\n",
    "    table.put_item(Item=david)\n",
    "    print(f\"Registro con idUsuario '{david['idUsuario']}' insertado exitosamente.\")\n",
    "except Exception as e:\n",
    "    print(f\"Error al insertar el registro: {e}\")\n",
    "\n",
    "# Datos del registro\n",
    "federico = {\n",
    "    'idUsuario': '2',  # Clave primaria (debe ser única)\n",
    "    'nombre': 'Federico',  # Atributo adicional\n",
    "    'edad': 38,\n",
    "    'localidad': 'Barcelona'\n",
    "    }\n",
    "# Insertar el registro\n",
    "try:\n",
    "    table.put_item(Item=federico)\n",
    "    print(f\"Registro con idUsuario '{federico['idUsuario']}' insertado exitosamente.\")\n",
    "except Exception as e:\n",
    "    print(f\"Error al insertar el registro: {e}\")\n",
    "\n",
    "# Datos del registro\n",
    "carlos = {\n",
    "    'idUsuario': '3',  # Clave primaria (debe ser única)\n",
    "    'nombre': 'Carlos',  # Atributo adicional\n",
    "    'edad': 25,\n",
    "    'localidad': 'Madrid'         \n",
    "}\n",
    "\n",
    "# Insertar el registro\n",
    "try:\n",
    "    table.put_item(Item=carlos)\n",
    "    print(f\"Registro con idUsuario '{carlos['idUsuario']}' insertado exitosamente.\")\n",
    "except Exception as e:\n",
    "    print(f\"Error al insertar el registro: {e}\")\n",
    "\n",
    "# Lista de nuevos usuarios\n",
    "usuarios = [\n",
    "    {'idUsuario': '4', 'nombre': 'María', 'edad': 32, 'localidad': 'Valencia'},\n",
    "    {'idUsuario': '5', 'nombre': 'Andrés', 'edad': 40, 'localidad': 'Sevilla'},\n",
    "    {'idUsuario': '6', 'nombre': 'Elena', 'edad': 29, 'localidad': 'Bilbao'},\n",
    "    {'idUsuario': '7', 'nombre': 'Javier', 'edad': 35, 'localidad': 'Madrid'},\n",
    "    {'idUsuario': '8', 'nombre': 'Lucía', 'edad': 27, 'localidad': 'Barcelona'},\n",
    "    {'idUsuario': '9', 'nombre': 'Pablo', 'edad': 31, 'localidad': 'Zaragoza'},\n",
    "    {'idUsuario': '10', 'nombre': 'Sofía', 'edad': 26, 'localidad': 'Granada'}\n",
    "]\n",
    "\n",
    "# Insertar cada usuario en la tabla\n",
    "for usuario in usuarios:\n",
    "    try:\n",
    "        table.put_item(Item=usuario)\n",
    "        print(f\"Registro con idUsuario '{usuario['idUsuario']}' insertado exitosamente.\")\n",
    "    except Exception as e:\n",
    "        print(f\"Error al insertar el registro con idUsuario '{usuario['idUsuario']}': {e}\")\n",
    "\n"
   ]
  },
  {
   "cell_type": "code",
   "execution_count": 113,
   "metadata": {},
   "outputs": [
    {
     "name": "stdout",
     "output_type": "stream",
     "text": [
      "Registro con idProducto '1' insertado exitosamente.\n",
      "Registro con idProducto '2' insertado exitosamente.\n",
      "Registro con idProducto '3' insertado exitosamente.\n",
      "Registro con idProducto '4' insertado exitosamente.\n",
      "Registro con idProducto '5' insertado exitosamente.\n",
      "Registro con idProducto '6' insertado exitosamente.\n",
      "Registro con idProducto '7' insertado exitosamente.\n",
      "Registro con idProducto '8' insertado exitosamente.\n",
      "Registro con idProducto '9' insertado exitosamente.\n",
      "Registro con idProducto '10' insertado exitosamente.\n",
      "Registro con idProducto '11' insertado exitosamente.\n",
      "Registro con idProducto '12' insertado exitosamente.\n"
     ]
    }
   ],
   "source": [
    "# Obtén la tabla\n",
    "table = dynamodb.Table('Productos')\n",
    "\n",
    "# Datos del registro\n",
    "plancha = {\n",
    "    'idProducto': '1',  # Clave primaria (debe ser única)\n",
    "    'producto': 'plancha',  # Atributo adicional\n",
    "    'referencia': 100,          # Atributo adicional\n",
    "    'precio': 20\n",
    "}\n",
    "\n",
    "# Insertar el registro\n",
    "try:\n",
    "    table.put_item(Item=plancha)\n",
    "    print(f\"Registro con idProducto '{plancha['idProducto']}' insertado exitosamente.\")\n",
    "except Exception as e:\n",
    "    print(f\"Error al insertar el registro: {e}\")\n",
    "\n",
    "# Datos del registro\n",
    "lavadora = {\n",
    "    'idProducto': '2',  # Clave primaria (debe ser única)\n",
    "    'producto': 'Lavadora',  # Atributo adicional\n",
    "    'referencia': 101,          # Atributo adicional\n",
    "    'precio': 300\n",
    "}\n",
    "\n",
    "# Insertar el registro\n",
    "try:\n",
    "    table.put_item(Item=lavadora)\n",
    "    print(f\"Registro con idProducto '{lavadora['idProducto']}' insertado exitosamente.\")\n",
    "except Exception as e:\n",
    "    print(f\"Error al insertar el registro: {e}\")\n",
    "\n",
    "# Datos del registro\n",
    "olla = {\n",
    "    'idProducto': '3',  # Clave primaria (debe ser única)\n",
    "    'producto': 'Olla',  # Atributo adicional\n",
    "    'referencia': 102,          # Atributo adicional\n",
    "    'precio': 70\n",
    "}\n",
    "\n",
    "# Insertar el registro\n",
    "try:\n",
    "    table.put_item(Item=olla)\n",
    "    print(f\"Registro con idProducto '{olla['idProducto']}' insertado exitosamente.\")\n",
    "except Exception as e:\n",
    "    print(f\"Error al insertar el registro: {e}\")\n",
    "\n",
    "\n",
    "# Lista de productos ficticios\n",
    "productos = [\n",
    "    {'idProducto': '4', 'producto': 'Microondas', 'referencia': 103, 'precio': 120},\n",
    "    {'idProducto': '5', 'producto': 'Refrigerador', 'referencia': 104, 'precio': 450},\n",
    "    {'idProducto': '6', 'producto': 'Tostadora', 'referencia': 105, 'precio': 25},\n",
    "    {'idProducto': '7', 'producto': 'Licuadora', 'referencia': 106, 'precio': 60},\n",
    "    {'idProducto': '8', 'producto': 'Cafetera', 'referencia': 107, 'precio': 50},\n",
    "    {'idProducto': '9', 'producto': 'Aspiradora', 'referencia': 108, 'precio': 80},\n",
    "    {'idProducto': '10', 'producto': 'Ventilador', 'referencia': 109, 'precio': 40},\n",
    "    {'idProducto': '11', 'producto': 'Televisor', 'referencia': 110, 'precio': 300},\n",
    "    {'idProducto': '12', 'producto': 'Horno eléctrico', 'referencia': 111, 'precio': 150},\n",
    "]\n",
    "\n",
    "\n",
    "# Insertar cada usuario en la tabla\n",
    "for producto in productos:\n",
    "    try:\n",
    "        table.put_item(Item=producto)\n",
    "        print(f\"Registro con idProducto '{producto['idProducto']}' insertado exitosamente.\")\n",
    "    except Exception as e:\n",
    "        print(f\"Error al insertar el registro con idProducto '{producto['idProducto']}': {e}\")\n"
   ]
  },
  {
   "cell_type": "code",
   "execution_count": 81,
   "metadata": {},
   "outputs": [
    {
     "name": "stdout",
     "output_type": "stream",
     "text": [
      "Registro con idOrden '1' insertado exitosamente.\n",
      "Registro con idOrden '2' insertado exitosamente.\n",
      "Registro con idOrden '3' insertado exitosamente.\n",
      "Registro con idOrden '4' insertado exitosamente.\n",
      "Registro con idOrden '5' insertado exitosamente.\n",
      "Registro con idOrden '6' insertado exitosamente.\n",
      "Registro con idOrden '7' insertado exitosamente.\n",
      "Registro con idOrden '8' insertado exitosamente.\n",
      "Registro con idOrden '9' insertado exitosamente.\n",
      "Registro con idOrden '10' insertado exitosamente.\n"
     ]
    }
   ],
   "source": [
    "# Obtén la tabla\n",
    "table = dynamodb.Table('Ordenes')\n",
    "\n",
    "# Datos del registro\n",
    "orden1 = {\n",
    "    'idOrden': '1',  # Clave primaria (debe ser única)\n",
    "    'cliente': 'David',  # Atributo adicional\n",
    "    'factura': 500          # Atributo adicional\n",
    "}\n",
    "\n",
    "# Insertar el registro\n",
    "try:\n",
    "    table.put_item(Item=orden1)\n",
    "    print(f\"Registro con idOrden '{orden1['idOrden']}' insertado exitosamente.\")\n",
    "except Exception as e:\n",
    "    print(f\"Error al insertar el registro: {e}\")\n",
    "\n",
    "# Datos del registro\n",
    "orden2 = {\n",
    "    'idOrden': '2',  # Clave primaria (debe ser única)\n",
    "    'cliente': 'Federico',  # Atributo adicional\n",
    "    'factura': 700          # Atributo adicional\n",
    "}\n",
    "\n",
    "# Insertar el registro\n",
    "try:\n",
    "    table.put_item(Item=orden2)\n",
    "    print(f\"Registro con idOrden '{orden2['idOrden']}' insertado exitosamente.\")\n",
    "except Exception as e:\n",
    "    print(f\"Error al insertar el registro: {e}\")\n",
    "\n",
    "# Datos del registro\n",
    "orden3 = {\n",
    "    'idOrden': '3',  # Clave primaria (debe ser única)\n",
    "    'cliente': 'Carlos',  # Atributo adicional\n",
    "    'factura': 900          # Atributo adicional\n",
    "}\n",
    "\n",
    "# Insertar el registro\n",
    "try:\n",
    "    table.put_item(Item=orden3)\n",
    "    print(f\"Registro con idOrden '{orden3['idOrden']}' insertado exitosamente.\")\n",
    "except Exception as e:\n",
    "    print(f\"Error al insertar el registro: {e}\")\n",
    "\n",
    "# Lista de registros ficticios\n",
    "registros = [\n",
    "    {'idOrden': '4', 'cliente': 'Laura', 'factura': 1200},\n",
    "    {'idOrden': '5', 'cliente': 'Ana', 'factura': 450},\n",
    "    {'idOrden': '6', 'cliente': 'Pedro', 'factura': 800},\n",
    "    {'idOrden': '7', 'cliente': 'José', 'factura': 600},\n",
    "    {'idOrden': '8', 'cliente': 'Marta', 'factura': 250},\n",
    "    {'idOrden': '9', 'cliente': 'Raúl', 'factura': 950},\n",
    "    {'idOrden': '10', 'cliente': 'Lucía', 'factura': 1300}\n",
    "]\n",
    "\n",
    "# Insertar registros usando un bucle\n",
    "for registro in registros:\n",
    "    try:\n",
    "        table.put_item(Item=registro)\n",
    "        print(f\"Registro con idOrden '{registro['idOrden']}' insertado exitosamente.\")\n",
    "    except Exception as e:\n",
    "        print(f\"Error al insertar el registro con idOrden '{registro['idOrden']}': {e}\")\n"
   ]
  },
  {
   "cell_type": "markdown",
   "metadata": {},
   "source": [
    "3 - Obtener un registro de cada tabla (1 punto)"
   ]
  },
  {
   "cell_type": "code",
   "execution_count": 82,
   "metadata": {},
   "outputs": [
    {
     "name": "stdout",
     "output_type": "stream",
     "text": [
      "Registro encontrado: {'nombre': 'David', 'idUsuario': '1', 'localidad': 'Madrid', 'edad': Decimal('28')}\n"
     ]
    }
   ],
   "source": [
    "# Obtener registro de la tabla Usuarios\n",
    "table = dynamodb.Table('Usuarios')\n",
    "\n",
    "# Clave primaria del registro que quieres obtener\n",
    "clave_primaria = {\n",
    "    'idUsuario': '1',\n",
    "    'localidad': 'Madrid'\n",
    "}\n",
    "\n",
    "# Obtener el ítem\n",
    "response = table.get_item(Key=clave_primaria)\n",
    "\n",
    "if 'Item' in response:\n",
    "    print(\"Registro encontrado:\", response['Item'])\n",
    "else:\n",
    "    print(\"El registro no existe.\")"
   ]
  },
  {
   "cell_type": "code",
   "execution_count": 83,
   "metadata": {},
   "outputs": [
    {
     "name": "stdout",
     "output_type": "stream",
     "text": [
      "Registro encontrado: {'idProducto': '2', 'producto': 'Lavadora', 'referencia': Decimal('101')}\n"
     ]
    }
   ],
   "source": [
    "# Obtener registro de la tabla Productos\n",
    "table = dynamodb.Table('Productos')\n",
    "\n",
    "# Clave primaria del registro que quieres obtener\n",
    "clave_primaria = {\n",
    "    'idProducto': '2',\n",
    "    'referencia': 101\n",
    "}\n",
    "\n",
    "# Obtener el ítem\n",
    "response = table.get_item(Key=clave_primaria)\n",
    "\n",
    "if 'Item' in response:\n",
    "    print(\"Registro encontrado:\", response['Item'])\n",
    "else:\n",
    "    print(\"El registro no existe.\")"
   ]
  },
  {
   "cell_type": "code",
   "execution_count": 84,
   "metadata": {},
   "outputs": [
    {
     "name": "stdout",
     "output_type": "stream",
     "text": [
      "Registro encontrado: {'idOrden': '3', 'cliente': 'Carlos', 'factura': Decimal('900')}\n"
     ]
    }
   ],
   "source": [
    "# Obtener registro de la tabla Ordenes\n",
    "table = dynamodb.Table('Ordenes')\n",
    "\n",
    "# Clave primaria del registro que quieres obtener\n",
    "clave_primaria = {\n",
    "    'idOrden': '3',\n",
    "    'cliente': 'Carlos'\n",
    "}\n",
    "\n",
    "# Obtener el ítem\n",
    "response = table.get_item(Key=clave_primaria)\n",
    "\n",
    "if 'Item' in response:\n",
    "    print(\"Registro encontrado:\", response['Item'])\n",
    "else:\n",
    "    print(\"El registro no existe.\")"
   ]
  },
  {
   "cell_type": "markdown",
   "metadata": {},
   "source": [
    "4 - Actualizar un registro de cada tabla (1 punto)"
   ]
  },
  {
   "cell_type": "code",
   "execution_count": 85,
   "metadata": {},
   "outputs": [
    {
     "name": "stdout",
     "output_type": "stream",
     "text": [
      "Registro actualizado: {'nombre': 'Alberto', 'idUsuario': '1', 'localidad': 'Madrid', 'edad': Decimal('30')}\n"
     ]
    }
   ],
   "source": [
    "# Especificar la tabla\n",
    "table = dynamodb.Table('Usuarios')\n",
    "\n",
    "# Clave primaria del registro que quieres actualizar\n",
    "clave_primaria = {\n",
    "    'idUsuario': '1',\n",
    "    'localidad': 'Madrid'\n",
    "}\n",
    "\n",
    "# Actualizar el registro\n",
    "response = table.update_item(\n",
    "    Key=clave_primaria,\n",
    "    UpdateExpression=\"SET nombre = :nombre, edad = :edad\", # Define los atributos a modificar.\n",
    "    ExpressionAttributeValues={   \n",
    "        ':nombre': 'Alberto',       # Mapea los valores nuevos\n",
    "        ':edad': 30\n",
    "    },\n",
    "    ReturnValues=\"ALL_NEW\"  # Devuelve todos los atributos del registro modificado.\n",
    ")\n",
    "\n",
    "# Mostrar los valores actualizados\n",
    "print(\"Registro actualizado:\", response['Attributes'])"
   ]
  },
  {
   "cell_type": "code",
   "execution_count": 114,
   "metadata": {},
   "outputs": [
    {
     "name": "stdout",
     "output_type": "stream",
     "text": [
      "Registro actualizado: {'idProducto': '2', 'producto': 'Movil', 'referencia': Decimal('101'), 'precio': Decimal('120')}\n"
     ]
    }
   ],
   "source": [
    "# Especificar la tabla\n",
    "table = dynamodb.Table('Productos')\n",
    "\n",
    "# Clave primaria del registro que quieres actualizar\n",
    "clave_primaria = {\n",
    "    'idProducto': '2',\n",
    "    'referencia': 101\n",
    "}\n",
    "\n",
    "# Actualizar el registro\n",
    "response = table.update_item(\n",
    "    Key=clave_primaria,\n",
    "    UpdateExpression=\"SET producto = :producto, precio = :precio\", # Define los atributos a modificar.\n",
    "    ExpressionAttributeValues={   \n",
    "        ':producto': 'Movil',       # Mapea los valores nuevos\n",
    "        ':precio': 120\n",
    "    },\n",
    "    ReturnValues=\"ALL_NEW\"  # Devuelve todos los atributos del registro modificado.\n",
    ")\n",
    "\n",
    "# Mostrar los valores actualizados\n",
    "print(\"Registro actualizado:\", response['Attributes'])"
   ]
  },
  {
   "cell_type": "code",
   "execution_count": 87,
   "metadata": {},
   "outputs": [
    {
     "name": "stdout",
     "output_type": "stream",
     "text": [
      "Registro actualizado: {'factura': Decimal('300'), 'idOrden': '3', 'cliente': 'Carlos', 'miembro': 'Si'}\n"
     ]
    }
   ],
   "source": [
    "# Especificar la tabla\n",
    "table = dynamodb.Table('Ordenes')\n",
    "\n",
    "# Clave primaria del registro que quieres actualizar\n",
    "clave_primaria = {\n",
    "    'idOrden': '3',\n",
    "    'cliente': 'Carlos'\n",
    "}\n",
    "\n",
    "# Actualizar el registro\n",
    "response = table.update_item(\n",
    "    Key=clave_primaria,\n",
    "    UpdateExpression=\"SET miembro = :miembro, factura = :factura\", # Define los atributos a modificar.\n",
    "    ExpressionAttributeValues={   \n",
    "        ':miembro': 'Si',       # Mapea los valores nuevos\n",
    "        ':factura': 300\n",
    "    },\n",
    "    ReturnValues=\"ALL_NEW\"  # Devuelve todos los atributos del registro modificado.\n",
    ")\n",
    "\n",
    "# Mostrar los valores actualizados\n",
    "print(\"Registro actualizado:\", response['Attributes'])"
   ]
  },
  {
   "cell_type": "markdown",
   "metadata": {},
   "source": [
    "5 - Eliminar un registro de cada tabla (1 punto)"
   ]
  },
  {
   "cell_type": "code",
   "execution_count": 88,
   "metadata": {},
   "outputs": [],
   "source": [
    "# Especificar la tabla\n",
    "table = dynamodb.Table('Usuarios')\n",
    "\n",
    "# Clave primaria del registro que quieres eliminar\n",
    "clave_primaria = {\n",
    "    'idUsuario': '3',\n",
    "    'localidad': 'Madrid'\n",
    "}\n",
    "\n",
    "# Eliminar el registro\n",
    "response = table.delete_item(\n",
    "    Key=clave_primaria\n",
    ")"
   ]
  },
  {
   "cell_type": "code",
   "execution_count": 115,
   "metadata": {},
   "outputs": [],
   "source": [
    "# Especificar la tabla\n",
    "table = dynamodb.Table('Productos')\n",
    "\n",
    "# Clave primaria del registro que quieres eliminar\n",
    "clave_primaria = {\n",
    "    'idProducto': '1',\n",
    "    'referencia': 100\n",
    "}\n",
    "\n",
    "# Eliminar el registro\n",
    "response = table.delete_item(\n",
    "    Key=clave_primaria\n",
    ")"
   ]
  },
  {
   "cell_type": "code",
   "execution_count": 90,
   "metadata": {},
   "outputs": [],
   "source": [
    "# Especificar la tabla\n",
    "table = dynamodb.Table('Ordenes')\n",
    "\n",
    "# Clave primaria del registro que quieres eliminar\n",
    "clave_primaria = {\n",
    "    'idOrden': '2',\n",
    "    'cliente': 'Federico'\n",
    "}\n",
    "\n",
    "# Eliminar el registro\n",
    "response = table.delete_item(\n",
    "    Key=clave_primaria\n",
    ")"
   ]
  },
  {
   "cell_type": "markdown",
   "metadata": {},
   "source": [
    "6 - Obtener todos los registros de cada tabla (1 punto)"
   ]
  },
  {
   "cell_type": "code",
   "execution_count": 91,
   "metadata": {},
   "outputs": [
    {
     "name": "stdout",
     "output_type": "stream",
     "text": [
      "Registros en la tabla: [{'nombre': 'Federico', 'idUsuario': '2', 'localidad': 'Barcelona', 'edad': Decimal('38')}, {'nombre': 'Lucía', 'idUsuario': '8', 'localidad': 'Barcelona', 'edad': Decimal('27')}, {'nombre': 'Pablo', 'idUsuario': '9', 'localidad': 'Zaragoza', 'edad': Decimal('31')}, {'nombre': 'Alberto', 'idUsuario': '1', 'localidad': 'Madrid', 'edad': Decimal('30')}, {'nombre': 'Elena', 'idUsuario': '6', 'localidad': 'Bilbao', 'edad': Decimal('29')}, {'nombre': 'Andrés', 'idUsuario': '5', 'localidad': 'Sevilla', 'edad': Decimal('40')}, {'nombre': 'María', 'idUsuario': '4', 'localidad': 'Valencia', 'edad': Decimal('32')}, {'nombre': 'Javier', 'idUsuario': '7', 'localidad': 'Madrid', 'edad': Decimal('35')}, {'nombre': 'Sofía', 'idUsuario': '10', 'localidad': 'Granada', 'edad': Decimal('26')}]\n"
     ]
    }
   ],
   "source": [
    "# Especificar la tabla\n",
    "table = dynamodb.Table('Usuarios')\n",
    "\n",
    "# Obtener todos los registros de la tabla\n",
    "response = table.scan()  # Obtiene todos los elementos de la tabla y los almacena en el campo Items de la respuesta.\n",
    "\n",
    "# Mostrar los registros\n",
    "print(\"Registros en la tabla:\", response['Items'])"
   ]
  },
  {
   "cell_type": "code",
   "execution_count": 92,
   "metadata": {},
   "outputs": [
    {
     "name": "stdout",
     "output_type": "stream",
     "text": [
      "Registros en la tabla: [{'idProducto': '2', 'producto': 'Movil', 'referencia': Decimal('101'), 'precio': Decimal('120')}, {'idProducto': '8', 'producto': 'Cafetera', 'referencia': Decimal('107'), 'precio': Decimal('50')}, {'idProducto': '9', 'producto': 'Aspiradora', 'referencia': Decimal('108'), 'precio': Decimal('80')}, {'idProducto': '6', 'producto': 'Tostadora', 'referencia': Decimal('105'), 'precio': Decimal('25')}, {'idProducto': '5', 'producto': 'Refrigerador', 'referencia': Decimal('104'), 'precio': Decimal('450')}, {'idProducto': '4', 'producto': 'Microondas', 'referencia': Decimal('103'), 'precio': Decimal('120')}, {'idProducto': '7', 'producto': 'Licuadora', 'referencia': Decimal('106'), 'precio': Decimal('60')}, {'idProducto': '11', 'producto': 'Televisor', 'referencia': Decimal('110'), 'precio': Decimal('300')}, {'idProducto': '3', 'producto': 'Olla', 'referencia': Decimal('102')}, {'idProducto': '12', 'producto': 'Horno eléctrico', 'referencia': Decimal('111'), 'precio': Decimal('150')}, {'idProducto': '10', 'producto': 'Ventilador', 'referencia': Decimal('109'), 'precio': Decimal('40')}]\n"
     ]
    }
   ],
   "source": [
    "# Especificar la tabla\n",
    "table = dynamodb.Table('Productos')\n",
    "\n",
    "# Obtener todos los registros de la tabla\n",
    "response = table.scan()  # Obtiene todos los elementos de la tabla y los almacena en el campo Items de la respuesta.\n",
    "\n",
    "# Mostrar los registros\n",
    "print(\"Registros en la tabla:\", response['Items'])"
   ]
  },
  {
   "cell_type": "code",
   "execution_count": 93,
   "metadata": {},
   "outputs": [
    {
     "name": "stdout",
     "output_type": "stream",
     "text": [
      "Registros en la tabla: [{'idOrden': '8', 'cliente': 'Marta', 'factura': Decimal('250')}, {'idOrden': '9', 'cliente': 'Raúl', 'factura': Decimal('950')}, {'idOrden': '1', 'cliente': 'David', 'factura': Decimal('500')}, {'idOrden': '6', 'cliente': 'Pedro', 'factura': Decimal('800')}, {'idOrden': '5', 'cliente': 'Ana', 'factura': Decimal('450')}, {'idOrden': '4', 'cliente': 'Laura', 'factura': Decimal('1200')}, {'idOrden': '7', 'cliente': 'José', 'factura': Decimal('600')}, {'factura': Decimal('300'), 'idOrden': '3', 'miembro': 'Si', 'cliente': 'Carlos'}, {'idOrden': '10', 'cliente': 'Lucía', 'factura': Decimal('1300')}]\n"
     ]
    }
   ],
   "source": [
    "# Especificar la tabla\n",
    "table = dynamodb.Table('Ordenes')\n",
    "\n",
    "# Obtener todos los registros de la tabla\n",
    "response = table.scan()  # Obtiene todos los elementos de la tabla y los almacena en el campo Items de la respuesta.\n",
    "\n",
    "# Mostrar los registros\n",
    "print(\"Registros en la tabla:\", response['Items'])"
   ]
  },
  {
   "cell_type": "markdown",
   "metadata": {},
   "source": [
    "7 - Obtener un conjunto de registros de un filtrado de cada tabla (1 punto)"
   ]
  },
  {
   "cell_type": "code",
   "execution_count": 94,
   "metadata": {},
   "outputs": [
    {
     "name": "stdout",
     "output_type": "stream",
     "text": [
      "Registros filtrados: [{'nombre': 'Federico', 'idUsuario': '2', 'localidad': 'Barcelona', 'edad': Decimal('38')}, {'nombre': 'Andrés', 'idUsuario': '5', 'localidad': 'Sevilla', 'edad': Decimal('40')}]\n"
     ]
    }
   ],
   "source": [
    "from boto3.dynamodb.conditions import Key, Attr\n",
    "\n",
    "# Especificar la tabla\n",
    "table = dynamodb.Table('Usuarios')\n",
    "\n",
    "# Filtrar registros donde 'edad' sea mayor que 35\n",
    "response = table.scan(\n",
    "    FilterExpression=Attr('edad').gt(35)  # Filtra los registros con 'edad > 35\n",
    ")\n",
    "\n",
    "# Mostrar los registros filtrados\n",
    "print(\"Registros filtrados:\", response['Items'])"
   ]
  },
  {
   "cell_type": "code",
   "execution_count": 96,
   "metadata": {},
   "outputs": [
    {
     "name": "stdout",
     "output_type": "stream",
     "text": [
      "Registros filtrados: [{'idProducto': '8', 'producto': 'Cafetera', 'referencia': Decimal('107'), 'precio': Decimal('50')}, {'idProducto': '9', 'producto': 'Aspiradora', 'referencia': Decimal('108'), 'precio': Decimal('80')}, {'idProducto': '6', 'producto': 'Tostadora', 'referencia': Decimal('105'), 'precio': Decimal('25')}, {'idProducto': '7', 'producto': 'Licuadora', 'referencia': Decimal('106'), 'precio': Decimal('60')}, {'idProducto': '10', 'producto': 'Ventilador', 'referencia': Decimal('109'), 'precio': Decimal('40')}]\n"
     ]
    }
   ],
   "source": [
    "# Especificar la tabla\n",
    "table = dynamodb.Table('Productos')\n",
    "\n",
    "# Filtrar registros donde 'precio' sea mayor que 100\n",
    "response = table.scan(\n",
    "    FilterExpression=Attr('precio').lt(100) # Menor o igual que 100\n",
    ")\n",
    "\n",
    "# Mostrar los registros filtrados\n",
    "print(\"Registros filtrados:\", response['Items'])"
   ]
  },
  {
   "cell_type": "code",
   "execution_count": 100,
   "metadata": {},
   "outputs": [
    {
     "name": "stdout",
     "output_type": "stream",
     "text": [
      "Registros filtrados: [{'idOrden': '5', 'cliente': 'Ana', 'factura': Decimal('450')}]\n"
     ]
    }
   ],
   "source": [
    "# Especificar la tabla\n",
    "table = dynamodb.Table('Ordenes')\n",
    "\n",
    "# Filtrar registros donde 'factura' sea mayor que 400\n",
    "response = table.scan(\n",
    "    FilterExpression=Attr('factura').eq(450)\n",
    ")\n",
    "\n",
    "# Mostrar los registros filtrados\n",
    "print(\"Registros filtrados:\", response['Items'])"
   ]
  },
  {
   "cell_type": "markdown",
   "metadata": {},
   "source": [
    "8 - Realizar una eliminación condicional de cada tabla (1 punto)"
   ]
  },
  {
   "cell_type": "code",
   "execution_count": 102,
   "metadata": {},
   "outputs": [
    {
     "name": "stdout",
     "output_type": "stream",
     "text": [
      "Registro eliminado con éxito.\n"
     ]
    }
   ],
   "source": [
    "# Especificar la tabla\n",
    "table = dynamodb.Table('Usuarios')\n",
    "\n",
    "# Clave primaria del registro a eliminar\n",
    "clave_primaria = {\n",
    "    'idUsuario': '1',\n",
    "    'localidad': 'Madrid'\n",
    "}\n",
    "\n",
    "# Eliminar solo si 'edad' es menor que 35\n",
    "try:\n",
    "    response = table.delete_item(\n",
    "        Key=clave_primaria,\n",
    "        ConditionExpression=Attr('edad').lt(35)  # Condición\n",
    "    )\n",
    "    print(\"Registro eliminado con éxito.\")\n",
    "except dynamodb.meta.client.exceptions.ConditionalCheckFailedException:\n",
    "    print(\"No se eliminó el registro porque no cumplió la condición.\")"
   ]
  },
  {
   "cell_type": "code",
   "execution_count": 104,
   "metadata": {},
   "outputs": [
    {
     "name": "stdout",
     "output_type": "stream",
     "text": [
      "Registro eliminado con éxito.\n"
     ]
    }
   ],
   "source": [
    "# Especificar la tabla\n",
    "table = dynamodb.Table('Productos')\n",
    "\n",
    "# Clave primaria del registro a eliminar\n",
    "clave_primaria = {\n",
    "    'idProducto': '5',\n",
    "    'referencia': 104\n",
    "}\n",
    "\n",
    "# Eliminar solo si 'precio' es igual a 50\n",
    "try:\n",
    "    response = table.delete_item(\n",
    "        Key=clave_primaria,\n",
    "        ConditionExpression=Attr('precio').eq(450)  # Condición\n",
    "    )\n",
    "    print(\"Registro eliminado con éxito.\")\n",
    "except dynamodb.meta.client.exceptions.ConditionalCheckFailedException:\n",
    "    print(\"No se eliminó el registro porque no cumplió la condición.\")"
   ]
  },
  {
   "cell_type": "code",
   "execution_count": 105,
   "metadata": {},
   "outputs": [
    {
     "name": "stdout",
     "output_type": "stream",
     "text": [
      "Registro eliminado con éxito.\n"
     ]
    }
   ],
   "source": [
    "table = dynamodb.Table('Ordenes')\n",
    "\n",
    "# Clave primaria del registro a eliminar\n",
    "clave_primaria = {\n",
    "    'idOrden': '1',\n",
    "    'cliente': 'David'\n",
    "}\n",
    "\n",
    "# Eliminar solo si 'factura' es diferente de 100\n",
    "try:\n",
    "    response = table.delete_item(\n",
    "        Key=clave_primaria,\n",
    "        ConditionExpression=Attr('factura').ne(100)  # Condición\n",
    "    )\n",
    "    print(\"Registro eliminado con éxito.\")\n",
    "except dynamodb.meta.client.exceptions.ConditionalCheckFailedException:\n",
    "    print(\"No se eliminó el registro porque no cumplió la condición.\")"
   ]
  },
  {
   "cell_type": "markdown",
   "metadata": {},
   "source": [
    "9 - Obtener un conjunto de datos a través de varios filtros aplicado en cada tabla (1 punto)"
   ]
  },
  {
   "cell_type": "code",
   "execution_count": 106,
   "metadata": {},
   "outputs": [
    {
     "name": "stdout",
     "output_type": "stream",
     "text": [
      "{'nombre': 'Javier', 'idUsuario': '7', 'localidad': 'Madrid', 'edad': Decimal('35')}\n"
     ]
    }
   ],
   "source": [
    "# Obtener la tabla\n",
    "table = dynamodb.Table('Usuarios')\n",
    "\n",
    "# Usamos scan con múltiples filtros combinados\n",
    "response = table.scan(\n",
    "    FilterExpression=Attr('edad').gt(32) & Attr('localidad').eq('Madrid')\n",
    ")\n",
    "\n",
    "# Imprimir los resultados\n",
    "for item in response['Items']:\n",
    "    print(item)"
   ]
  },
  {
   "cell_type": "code",
   "execution_count": 117,
   "metadata": {},
   "outputs": [
    {
     "name": "stdout",
     "output_type": "stream",
     "text": [
      "{'idProducto': '2', 'producto': 'Movil', 'referencia': Decimal('101'), 'precio': Decimal('120')}\n",
      "{'idProducto': '4', 'producto': 'Microondas', 'referencia': Decimal('103'), 'precio': Decimal('120')}\n"
     ]
    }
   ],
   "source": [
    "# Obtener la tabla\n",
    "table = dynamodb.Table('Productos')\n",
    "\n",
    "# Usamos scan con múltiples filtros combinados\n",
    "response = table.scan(\n",
    "    FilterExpression=Attr('precio').lt(400) & Attr('producto').begins_with('M')\n",
    ")\n",
    "\n",
    "# Imprimir los resultados\n",
    "for item in response['Items']:\n",
    "    print(item)"
   ]
  },
  {
   "cell_type": "code",
   "execution_count": 121,
   "metadata": {},
   "outputs": [
    {
     "name": "stdout",
     "output_type": "stream",
     "text": [
      "{'idOrden': '4', 'cliente': 'Laura', 'factura': Decimal('1200')}\n",
      "{'idOrden': '10', 'cliente': 'Lucía', 'factura': Decimal('1300')}\n"
     ]
    }
   ],
   "source": [
    "table = dynamodb.Table('Ordenes')\n",
    "\n",
    "# Usamos scan con múltiples filtros combinados\n",
    "response = table.scan(\n",
    "    FilterExpression=Attr('factura').gt(700) & Attr('cliente').begins_with('L')\n",
    ")\n",
    "\n",
    "# Imprimir los resultados\n",
    "for item in response['Items']:\n",
    "    print(item)"
   ]
  },
  {
   "cell_type": "markdown",
   "metadata": {},
   "source": [
    "10 - Utilizar PartiQL statement en cada tabla (1 punto)"
   ]
  },
  {
   "cell_type": "code",
   "execution_count": 128,
   "metadata": {},
   "outputs": [
    {
     "name": "stdout",
     "output_type": "stream",
     "text": [
      "{'nombre': {'S': 'Federico'}, 'idUsuario': {'S': '2'}, 'localidad': {'S': 'Barcelona'}, 'edad': {'N': '38'}}\n",
      "{'nombre': {'S': 'Andrés'}, 'idUsuario': {'S': '5'}, 'localidad': {'S': 'Sevilla'}, 'edad': {'N': '40'}}\n"
     ]
    }
   ],
   "source": [
    "# Crear un cliente de DynamoDB\n",
    "dynamodb = boto3.client(\n",
    "   'dynamodb',\n",
    "   aws_access_key_id=os.getenv(\"ACCESS_KEY\"),\n",
    "   aws_secret_access_key=os.getenv(\"SECRET_KEY\"),\n",
    "   aws_session_token=os.getenv(\"SESSION_TOKEN\"),\n",
    "   region_name=os.getenv(\"REGION\")\n",
    ")\n",
    "\n",
    "response = dynamodb.execute_statement(\n",
    "    Statement=\"SELECT * FROM Usuarios WHERE edad > ?\", \n",
    "    Parameters=[{'N': '35'}]  # Parámetro de tipo numérico\n",
    ")\n",
    "\n",
    "# Imprimir los resultados\n",
    "for item in response['Items']:\n",
    "    print(item)"
   ]
  },
  {
   "cell_type": "code",
   "execution_count": 130,
   "metadata": {},
   "outputs": [
    {
     "name": "stdout",
     "output_type": "stream",
     "text": [
      "{'idProducto': {'S': '8'}, 'producto': {'S': 'Cafetera'}, 'referencia': {'N': '107'}, 'precio': {'N': '50'}}\n",
      "{'idProducto': {'S': '9'}, 'producto': {'S': 'Aspiradora'}, 'referencia': {'N': '108'}, 'precio': {'N': '80'}}\n",
      "{'idProducto': {'S': '7'}, 'producto': {'S': 'Licuadora'}, 'referencia': {'N': '106'}, 'precio': {'N': '60'}}\n",
      "{'idProducto': {'S': '10'}, 'producto': {'S': 'Ventilador'}, 'referencia': {'N': '109'}, 'precio': {'N': '40'}}\n"
     ]
    }
   ],
   "source": [
    "# Ejemplo de consulta con PartiQL\n",
    "response = dynamodb.execute_statement(\n",
    "    Statement=\"SELECT * FROM Productos WHERE precio < ? AND referencia > ?\", \n",
    "    Parameters=[{'N': '100'},\n",
    "                {'N': '105'}]  # Parámetro de tipo numérico\n",
    ")\n",
    "\n",
    "# Imprimir los resultados\n",
    "for item in response['Items']:\n",
    "    print(item)"
   ]
  },
  {
   "cell_type": "code",
   "execution_count": 131,
   "metadata": {},
   "outputs": [],
   "source": [
    "# Ejemplo de consulta con PartiQL\n",
    "response = dynamodb.execute_statement(\n",
    "    Statement=\"INSERT INTO Ordenes VALUE {'idOrden': ?, 'cliente': ?, 'factura': ?, 'miembro': ?}\",\n",
    "    Parameters=[\n",
    "        {'S': '11'},  # idOrden\n",
    "        {'S': 'Rodrigo'},\n",
    "        {'N': '380'},\n",
    "        {'S': 'No'} \n",
    "        ]\n",
    ")\n",
    "\n",
    "# Imprimir los resultados\n",
    "for item in response['Items']:\n",
    "    print(item)"
   ]
  },
  {
   "cell_type": "code",
   "execution_count": 136,
   "metadata": {},
   "outputs": [
    {
     "name": "stdout",
     "output_type": "stream",
     "text": [
      "Registro actualizado exitosamente.\n"
     ]
    }
   ],
   "source": [
    "# Actualización de un registro con PartiQL\n",
    "response = dynamodb.execute_statement(\n",
    "    Statement=\"UPDATE Usuarios SET edad = ? WHERE idUsuario = ? AND localidad = ?\",\n",
    "    Parameters=[\n",
    "        {'N': '35'},  # Nueva edad\n",
    "        {'S': '10'},    # idUsuario\n",
    "        {'S': 'Granada'}  # localidad\n",
    "    ]\n",
    ")\n",
    "\n",
    "print(\"Registro actualizado exitosamente.\")"
   ]
  },
  {
   "cell_type": "code",
   "execution_count": 140,
   "metadata": {},
   "outputs": [
    {
     "name": "stdout",
     "output_type": "stream",
     "text": [
      "Registro eliminado exitosamente.\n"
     ]
    }
   ],
   "source": [
    "# Eliminación de un registro con PartiQL\n",
    "response = dynamodb.execute_statement(\n",
    "    Statement=\"DELETE FROM Ordenes WHERE idOrden = ? AND cliente = ?\",\n",
    "    Parameters=[\n",
    "        {'S': '3'},  # idUsuario (clave de partición)\n",
    "        {'S': 'Carlos'}  # cliente (clave de ordenación)\n",
    "    ]\n",
    ")\n",
    "\n",
    "print(\"Registro eliminado exitosamente.\")"
   ]
  },
  {
   "cell_type": "markdown",
   "metadata": {},
   "source": [
    "11 - Crear un backup de todas las tablas (0.5 puntos)"
   ]
  },
  {
   "cell_type": "code",
   "execution_count": 141,
   "metadata": {},
   "outputs": [
    {
     "name": "stdout",
     "output_type": "stream",
     "text": [
      "Tablas encontradas: ['Ordenes', 'Productos', 'Usuarios']\n",
      "Iniciando backup para la tabla Ordenes...\n",
      "Backup creado exitosamente para la tabla Ordenes con el nombre: Ordenes_backup\n",
      "Iniciando backup para la tabla Productos...\n",
      "Backup creado exitosamente para la tabla Productos con el nombre: Productos_backup\n",
      "Iniciando backup para la tabla Usuarios...\n",
      "Backup creado exitosamente para la tabla Usuarios con el nombre: Usuarios_backup\n"
     ]
    }
   ],
   "source": [
    "import boto3\n",
    "from botocore.exceptions import ClientError\n",
    "\n",
    "\n",
    "# Obtener el nombre de todas las tablas\n",
    "try:\n",
    "    response = dynamodb.list_tables()\n",
    "    tables = response['TableNames']\n",
    "    print(f\"Tablas encontradas: {tables}\")\n",
    "\n",
    "    # Crear un backup para cada tabla\n",
    "    for table in tables:\n",
    "        try:\n",
    "            backup_name = f\"{table}_backup\"\n",
    "            print(f\"Iniciando backup para la tabla {table}...\")\n",
    "            \n",
    "            # Crear el backup de la tabla\n",
    "            backup_response = dynamodb.create_backup(\n",
    "                TableName=table,\n",
    "                BackupName=backup_name\n",
    "            )\n",
    "            print(f\"Backup creado exitosamente para la tabla {table} con el nombre: {backup_name}\")\n",
    "        \n",
    "        except ClientError as e:\n",
    "            print(f\"Error al crear el backup de la tabla {table}: {e}\")\n",
    "    \n",
    "except ClientError as e:\n",
    "    print(f\"Error al listar las tablas: {e}\")\n"
   ]
  }
 ],
 "metadata": {
  "kernelspec": {
   "display_name": "venv",
   "language": "python",
   "name": "python3"
  },
  "language_info": {
   "codemirror_mode": {
    "name": "ipython",
    "version": 3
   },
   "file_extension": ".py",
   "mimetype": "text/x-python",
   "name": "python",
   "nbconvert_exporter": "python",
   "pygments_lexer": "ipython3",
   "version": "3.12.6"
  }
 },
 "nbformat": 4,
 "nbformat_minor": 2
}
