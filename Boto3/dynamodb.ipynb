{
 "cells": [
  {
   "cell_type": "code",
   "execution_count": 28,
   "metadata": {},
   "outputs": [],
   "source": [
    "import boto3\n",
    "from dotenv import load_dotenv\n",
    "import os\n",
    "\n",
    "load_dotenv(override=True) # El override es porque las variables de entorno cambian con cada laboratorio\n",
    "\n",
    "dynamodb = boto3.resource(\n",
    "   'dynamodb',\n",
    "   aws_access_key_id=os.getenv(\"ACCESS_KEY\"),\n",
    "   aws_secret_access_key=os.getenv(\"SECRET_KEY\"),\n",
    "   aws_session_token=os.getenv(\"SESSION_TOKEN\"),\n",
    "   region_name=os.getenv(\"REGION\")\n",
    ")"
   ]
  },
  {
   "cell_type": "markdown",
   "metadata": {},
   "source": [
    "1 - Crear al menos 3 tablas con dos atributos cada una (1 punto)"
   ]
  },
  {
   "cell_type": "code",
   "execution_count": 33,
   "metadata": {},
   "outputs": [
    {
     "name": "stdout",
     "output_type": "stream",
     "text": [
      "CREATING\n",
      "Tabla creada exitosamente!\n"
     ]
    }
   ],
   "source": [
    "try:\n",
    "    table = dynamodb.create_table(\n",
    "        TableName='Usuarios',  # Nombre de la tabla\n",
    "        KeySchema=[\n",
    "            {\n",
    "                'AttributeName': 'idUsuario',  # Nombre de la clave primaria\n",
    "                'KeyType': 'HASH'  # Tipo de clave (HASH = clave primaria)\n",
    "            }\n",
    "        ],\n",
    "        AttributeDefinitions=[\n",
    "            {\n",
    "                'AttributeName': 'idUsuario',  # Definición de la clave primaria\n",
    "                'AttributeType': 'S'  # Tipo de dato (S = String)\n",
    "            }\n",
    "        ],\n",
    "        ProvisionedThroughput={\n",
    "            'ReadCapacityUnits': 5,  # Unidades de capacidad de lectura\n",
    "            'WriteCapacityUnits': 5  # Unidades de capacidad de escritura\n",
    "        }\n",
    "    )\n",
    "\n",
    "    print(table.table_status)\n",
    "    print(\"Tabla creada exitosamente!\")\n",
    "\n",
    "\n",
    "except Exception as e:\n",
    "    print(f\"Error al crear la tabla: {e}\")"
   ]
  },
  {
   "cell_type": "code",
   "execution_count": 34,
   "metadata": {},
   "outputs": [
    {
     "name": "stdout",
     "output_type": "stream",
     "text": [
      "CREATING\n",
      "Tabla creada exitosamente!\n"
     ]
    }
   ],
   "source": [
    "try:\n",
    "    table = dynamodb.create_table(\n",
    "        TableName='Productos',  # Nombre de la tabla\n",
    "        KeySchema=[\n",
    "            {\n",
    "                'AttributeName': 'idProducto',  # Nombre de la clave primaria\n",
    "                'KeyType': 'HASH'  # Tipo de clave (HASH = clave primaria)\n",
    "            }\n",
    "        ],\n",
    "        AttributeDefinitions=[\n",
    "            {\n",
    "                'AttributeName': 'idProducto',  # Definición de la clave primaria\n",
    "                'AttributeType': 'S'  # Tipo de dato (S = String)\n",
    "            }\n",
    "        ],\n",
    "        ProvisionedThroughput={\n",
    "            'ReadCapacityUnits': 5,  # Unidades de capacidad de lectura\n",
    "            'WriteCapacityUnits': 5  # Unidades de capacidad de escritura\n",
    "        }\n",
    "    )\n",
    "    \n",
    "    print(table.table_status)\n",
    "    print(\"Tabla creada exitosamente!\")\n",
    "\n",
    "\n",
    "except Exception as e:\n",
    "    print(f\"Error al crear la tabla: {e}\")"
   ]
  },
  {
   "cell_type": "code",
   "execution_count": 35,
   "metadata": {},
   "outputs": [
    {
     "name": "stdout",
     "output_type": "stream",
     "text": [
      "CREATING\n",
      "Tabla creada exitosamente!\n"
     ]
    }
   ],
   "source": [
    "try:\n",
    "    table = dynamodb.create_table(\n",
    "        TableName='Ordenes',  # Nombre de la tabla\n",
    "        KeySchema=[\n",
    "            {\n",
    "                'AttributeName': 'idOrden',  # Nombre de la clave primaria\n",
    "                'KeyType': 'HASH'  # Tipo de clave (HASH = clave primaria)\n",
    "            }\n",
    "        ],\n",
    "        AttributeDefinitions=[\n",
    "            {\n",
    "                'AttributeName': 'idOrden',  # Definición de la clave primaria\n",
    "                'AttributeType': 'S'  # Tipo de dato (S = String)\n",
    "            }\n",
    "        ],\n",
    "        ProvisionedThroughput={\n",
    "            'ReadCapacityUnits': 5,  # Unidades de capacidad de lectura\n",
    "            'WriteCapacityUnits': 5  # Unidades de capacidad de escritura\n",
    "        }\n",
    "    )\n",
    "    \n",
    "    print(table.table_status)\n",
    "    print(\"Tabla creada exitosamente!\")\n",
    "\n",
    "\n",
    "except Exception as e:\n",
    "    print(f\"Error al crear la tabla: {e}\")"
   ]
  },
  {
   "cell_type": "markdown",
   "metadata": {},
   "source": [
    "2 - Crear tres registros encada tabla (0.5 puntos)"
   ]
  },
  {
   "cell_type": "code",
   "execution_count": 37,
   "metadata": {},
   "outputs": [
    {
     "name": "stdout",
     "output_type": "stream",
     "text": [
      "Registro con idUsuario '1' insertado exitosamente.\n",
      "Registro con idUsuario '2' insertado exitosamente.\n",
      "Registro con idUsuario '3' insertado exitosamente.\n"
     ]
    }
   ],
   "source": [
    "# Obtén la tabla\n",
    "table = dynamodb.Table('Usuarios')\n",
    "\n",
    "# Datos del registro\n",
    "david = {\n",
    "    'idUsuario': '1',  # Clave primaria (debe ser única)\n",
    "    'nombre': 'David',  # Atributo adicional\n",
    "    'edad': 28          # Atributo adicional\n",
    "}\n",
    "\n",
    "# Insertar el registro\n",
    "try:\n",
    "    table.put_item(Item=david)\n",
    "    print(f\"Registro con idUsuario '{david['idUsuario']}' insertado exitosamente.\")\n",
    "except Exception as e:\n",
    "    print(f\"Error al insertar el registro: {e}\")\n",
    "\n",
    "# Datos del registro\n",
    "federico = {\n",
    "    'idUsuario': '2',  # Clave primaria (debe ser única)\n",
    "    'nombre': 'Federico',  # Atributo adicional\n",
    "    'edad': 38          # Atributo adicional\n",
    "}\n",
    "\n",
    "# Insertar el registro\n",
    "try:\n",
    "    table.put_item(Item=federico)\n",
    "    print(f\"Registro con idUsuario '{federico['idUsuario']}' insertado exitosamente.\")\n",
    "except Exception as e:\n",
    "    print(f\"Error al insertar el registro: {e}\")\n",
    "\n",
    "# Datos del registro\n",
    "carlos = {\n",
    "    'idUsuario': '3',  # Clave primaria (debe ser única)\n",
    "    'nombre': 'Carlos',  # Atributo adicional\n",
    "    'edad': 25          # Atributo adicional\n",
    "}\n",
    "\n",
    "# Insertar el registro\n",
    "try:\n",
    "    table.put_item(Item=carlos)\n",
    "    print(f\"Registro con idUsuario '{carlos['idUsuario']}' insertado exitosamente.\")\n",
    "except Exception as e:\n",
    "    print(f\"Error al insertar el registro: {e}\")\n",
    "\n"
   ]
  },
  {
   "cell_type": "code",
   "execution_count": null,
   "metadata": {},
   "outputs": [],
   "source": [
    "# Obtén la tabla\n",
    "table = dynamodb.Table('Productos')\n",
    "\n",
    "# Datos del registro\n",
    "plancha = {\n",
    "    'idProducto': '1',  # Clave primaria (debe ser única)\n",
    "    'producto': 'plancha',  # Atributo adicional\n",
    "    'precio': 30          # Atributo adicional\n",
    "}\n",
    "\n",
    "# Insertar el registro\n",
    "try:\n",
    "    table.put_item(Item=plancha)\n",
    "    print(f\"Registro con idUsuario '{plancha['idUsuario']}' insertado exitosamente.\")\n",
    "except Exception as e:\n",
    "    print(f\"Error al insertar el registro: {e}\")\n",
    "\n",
    "# CONTINUAR AQUI\n",
    "\n",
    "\n",
    "# Datos del registro\n",
    "federico = {\n",
    "    'idUsuario': '2',  # Clave primaria (debe ser única)\n",
    "    'nombre': 'Federico',  # Atributo adicional\n",
    "    'edad': 38          # Atributo adicional\n",
    "}\n",
    "\n",
    "# Insertar el registro\n",
    "try:\n",
    "    table.put_item(Item=federico)\n",
    "    print(f\"Registro con idUsuario '{federico['idUsuario']}' insertado exitosamente.\")\n",
    "except Exception as e:\n",
    "    print(f\"Error al insertar el registro: {e}\")\n",
    "\n",
    "# Datos del registro\n",
    "carlos = {\n",
    "    'idUsuario': '3',  # Clave primaria (debe ser única)\n",
    "    'nombre': 'Carlos',  # Atributo adicional\n",
    "    'edad': 25          # Atributo adicional\n",
    "}\n",
    "\n",
    "# Insertar el registro\n",
    "try:\n",
    "    table.put_item(Item=carlos)\n",
    "    print(f\"Registro con idUsuario '{carlos['idUsuario']}' insertado exitosamente.\")\n",
    "except Exception as e:\n",
    "    print(f\"Error al insertar el registro: {e}\")"
   ]
  },
  {
   "cell_type": "markdown",
   "metadata": {},
   "source": [
    "3 - Obtener un registro de cada tabla (1 punto)"
   ]
  }
 ],
 "metadata": {
  "kernelspec": {
   "display_name": "venv",
   "language": "python",
   "name": "python3"
  },
  "language_info": {
   "codemirror_mode": {
    "name": "ipython",
    "version": 3
   },
   "file_extension": ".py",
   "mimetype": "text/x-python",
   "name": "python",
   "nbconvert_exporter": "python",
   "pygments_lexer": "ipython3",
   "version": "3.12.4"
  }
 },
 "nbformat": 4,
 "nbformat_minor": 2
}
